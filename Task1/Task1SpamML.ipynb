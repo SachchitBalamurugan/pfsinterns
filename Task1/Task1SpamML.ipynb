{
 "cells": [
  {
   "cell_type": "markdown",
   "id": "7acdd9d6-be63-4c35-8be8-2f0b3ddf00f3",
   "metadata": {},
   "source": [
    "## Spam Email Classfier\n",
    "**Feature Extraction**\n",
    "- Used TfidfVectorizer to convert the text data into TF-IDF feature vectors for model training.\n",
    "  \n",
    "**Split the Dataset**\n",
    "- Split the data into training and testing sets using train_test_split() from sklearn, specifying a test size of 20%.\n",
    "\n",
    "**Train the Classifier**\n",
    "- Initialized and fit a DecisionTreeClassifier to the training data.\n"
   ]
  },
  {
   "cell_type": "code",
   "execution_count": 4,
   "id": "0e0439e2-04e4-4a01-8dc7-3ff0e021752a",
   "metadata": {},
   "outputs": [
    {
     "name": "stderr",
     "output_type": "stream",
     "text": [
      "[nltk_data] Downloading package punkt to\n",
      "[nltk_data]     C:\\Users\\sachc\\AppData\\Roaming\\nltk_data...\n",
      "[nltk_data]   Package punkt is already up-to-date!\n",
      "[nltk_data] Downloading package stopwords to\n",
      "[nltk_data]     C:\\Users\\sachc\\AppData\\Roaming\\nltk_data...\n",
      "[nltk_data]   Package stopwords is already up-to-date!\n"
     ]
    },
    {
     "name": "stdout",
     "output_type": "stream",
     "text": [
      "Accuracy: 0.97\n",
      "              precision    recall  f1-score   support\n",
      "\n",
      "           0       0.98      0.98      0.98       965\n",
      "           1       0.89      0.87      0.88       150\n",
      "\n",
      "    accuracy                           0.97      1115\n",
      "   macro avg       0.93      0.93      0.93      1115\n",
      "weighted avg       0.97      0.97      0.97      1115\n",
      "\n",
      "AUC: 0.93\n",
      "Results exported to the 'task1_results' folder.\n"
     ]
    }
   ],
   "source": [
    "import os\n",
    "import pandas as pd\n",
    "import nltk\n",
    "import string\n",
    "from nltk.corpus import stopwords\n",
    "from nltk.tokenize import word_tokenize\n",
    "from sklearn.feature_extraction.text import TfidfVectorizer\n",
    "from sklearn.model_selection import train_test_split\n",
    "from sklearn.tree import DecisionTreeClassifier\n",
    "from sklearn.metrics import accuracy_score, classification_report, confusion_matrix, roc_curve, roc_auc_score\n",
    "import matplotlib.pyplot as plt\n",
    "import seaborn as sns\n",
    "\n",
    "# Load the dataset\n",
    "df = pd.read_csv('spam.csv', encoding='latin-1')\n",
    "\n",
    "# Preprocess the text\n",
    "nltk.download('punkt')\n",
    "nltk.download('stopwords')\n",
    "\n",
    "def preprocess_text(text):\n",
    "    text = text.lower()\n",
    "    text = text.translate(str.maketrans('', '', string.punctuation))\n",
    "    tokens = word_tokenize(text)\n",
    "    tokens = [word for word in tokens if word not in stopwords.words('english')]\n",
    "    return ' '.join(tokens)\n",
    "\n",
    "# Update column names\n",
    "df['processed_content'] = df['v2'].apply(preprocess_text)\n",
    "y = df['v1'].map({'spam': 1, 'ham': 0})\n",
    "\n",
    "# Feature extraction\n",
    "vectorizer = TfidfVectorizer()\n",
    "X = vectorizer.fit_transform(df['processed_content'])\n",
    "\n",
    "# Split the dataset\n",
    "X_train, X_test, y_train, y_test = train_test_split(X, y, test_size=0.2, random_state=42)\n",
    "\n",
    "# Train the classifier\n",
    "classifier = DecisionTreeClassifier()\n",
    "classifier.fit(X_train, y_train)\n",
    "\n",
    "# Make predictions\n",
    "y_pred = classifier.predict(X_test)\n",
    "y_pred_prob = classifier.predict_proba(X_test)[:, 1]  # Probability estimates for the positive class\n",
    "\n",
    "# Evaluate the model\n",
    "accuracy = accuracy_score(y_test, y_pred)\n",
    "print(f'Accuracy: {accuracy:.2f}')\n",
    "print(classification_report(y_test, y_pred))\n",
    "conf_matrix = confusion_matrix(y_test, y_pred)\n",
    "\n",
    "# Calculate ROC Curve and AUC\n",
    "fpr, tpr, thresholds = roc_curve(y_test, y_pred_prob)\n",
    "roc_auc = roc_auc_score(y_test, y_pred_prob)\n",
    "print(f'AUC: {roc_auc:.2f}')\n",
    "\n",
    "output_dir = 'task1_results'\n",
    "os.makedirs(output_dir, exist_ok=True)\n",
    "\n",
    "plt.figure(figsize=(8, 6))\n",
    "sns.heatmap(conf_matrix, annot=True, fmt='d', cmap='Blues', xticklabels=['Ham', 'Spam'], yticklabels=['Ham', 'Spam'])\n",
    "plt.ylabel('Actual')\n",
    "plt.xlabel('Predicted')\n",
    "plt.title('Confusion Matrix')\n",
    "plt.savefig(os.path.join(output_dir, 'confusion_matrix.png'))\n",
    "plt.close()  # Close the plot to avoid displaying it inline\n",
    "\n",
    "plt.figure(figsize=(8, 6))\n",
    "plt.plot(fpr, tpr, color='blue', label=f'ROC Curve (AUC = {roc_auc:.2f})')\n",
    "plt.plot([0, 1], [0, 1], color='red', linestyle='--')  # Diagonal line\n",
    "plt.xlim([0.0, 1.0])\n",
    "plt.ylim([0.0, 1.05])\n",
    "plt.xlabel('False Positive Rate')\n",
    "plt.ylabel('True Positive Rate')\n",
    "plt.title('Receiver Operating Characteristic')\n",
    "plt.legend(loc='lower right')\n",
    "plt.grid()\n",
    "plt.savefig(os.path.join(output_dir, 'roc_curve.png'))\n",
    "plt.close()  # Close the plot to avoid displaying it inline\n",
    "\n",
    "with open(os.path.join(output_dir, 'classification_report.txt'), 'w') as f:\n",
    "    f.write(f'Accuracy: {accuracy:.2f}\\n')\n",
    "    f.write(classification_report(y_test, y_pred))\n",
    "\n",
    "print(\"Results exported to the 'task1_results' folder.\")\n"
   ]
  },
  {
   "cell_type": "markdown",
   "id": "d9bd3bd4-92c8-4514-abac-62119881e900",
   "metadata": {},
   "source": [
    "## TEST and PREDICT"
   ]
  },
  {
   "cell_type": "code",
   "execution_count": 5,
   "id": "b9f9a85b-6e39-421c-92f2-cf3d04e41d1d",
   "metadata": {},
   "outputs": [],
   "source": [
    "def predict_spam(text, model, vectorizer):\n",
    "    # Preprocess the input text\n",
    "    processed_text = preprocess_text(text)\n",
    "    # Transform the text into the same feature space as the training data\n",
    "    text_vector = vectorizer.transform([processed_text])\n",
    "    # Make prediction\n",
    "    prediction = model.predict(text_vector)\n",
    "    return 'spam' if prediction[0] == 1 else 'ham'\n"
   ]
  },
  {
   "cell_type": "code",
   "execution_count": 8,
   "id": "89f486cb-1982-4459-be86-518b62deb57f",
   "metadata": {},
   "outputs": [
    {
     "name": "stdout",
     "output_type": "stream",
     "text": [
      "The message is classified as: spam\n"
     ]
    }
   ],
   "source": [
    "ham_text = \"We hope this message finds you well! We are excited to share this month’s newsletter filled with eco-friendly tips and updates. This edition features: Sustainable Living Tips: Simple ways to reduce your carbon footprint. Upcoming Events: Join us for our community cleanup on October 30th. Featured Product: Discover our new line of biodegradable cleaning supplies! Thank you for being a valued member of the EcoLiving community.\"\n",
    "spam_text = \"Congratulations! You have been randomly selected to receive a $1,000 Gift Card for your favorite store! This is an exclusive offer just for you. To claim your prize, simply click the link below and provide your details: Claim Your Prize Now! Hurry, this offer is valid for a limited time only! Don’t miss out on your chance to enjoy free shopping.\"\n",
    "result = predict_spam(spam_text, classifier, vectorizer)\n",
    "print(f'The message is classified as: {result}')\n"
   ]
  },
  {
   "cell_type": "code",
   "execution_count": null,
   "id": "e66a1ad0-ff0e-4493-b71e-aefd284e3c72",
   "metadata": {},
   "outputs": [],
   "source": []
  }
 ],
 "metadata": {
  "kernelspec": {
   "display_name": "Python 3 (ipykernel)",
   "language": "python",
   "name": "python3"
  },
  "language_info": {
   "codemirror_mode": {
    "name": "ipython",
    "version": 3
   },
   "file_extension": ".py",
   "mimetype": "text/x-python",
   "name": "python",
   "nbconvert_exporter": "python",
   "pygments_lexer": "ipython3",
   "version": "3.12.3"
  }
 },
 "nbformat": 4,
 "nbformat_minor": 5
}
